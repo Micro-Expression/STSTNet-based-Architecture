{
 "cells": [
  {
   "cell_type": "code",
   "execution_count": 1,
   "metadata": {},
   "outputs": [],
   "source": [
    "import torch\n",
    "from torchvision.transforms import Compose, Resize, RandomVerticalFlip, RandomHorizontalFlip\n",
    "from torchsummary import summary\n",
    "\n",
    "import numpy as np\n",
    "import pandas as pd\n",
    "from PIL import Image\n",
    "import pickle\n",
    "import os\n",
    "from sklearn.preprocessing import LabelEncoder"
   ]
  },
  {
   "cell_type": "code",
   "execution_count": 2,
   "metadata": {},
   "outputs": [],
   "source": [
    "class CASME2Selected(torch.utils.data.Dataset):\n",
    "\n",
    "    def __init__(self, root, excel, no_frames=10, transform=None):\n",
    "        super(CASME2Selected, self).__init__()\n",
    "        self.root = root\n",
    "        self.excel = excel\n",
    "        self.no_frames = no_frames\n",
    "        self.transform = transform\n",
    "        self.df = pd.read_excel(\n",
    "                    excel,\n",
    "                    usecols=[\"Subject\", \"Filename\", \"OnsetFrame\", \"ApexFrame\", \"OffsetFrame\", \"Action Units\", \"Estimated Emotion\"]\n",
    "                )\n",
    "        self.df[\"label\"] = self.get_labels()\n",
    "        self.df[\"Frame root\"] = self.df.apply(lambda x: self.get_paths(x), axis=1)\n",
    "        self.df[\"Frames\"] = self.df.apply(lambda x: self.get_frames(x[\"Frame root\"]), axis=1)\n",
    "\n",
    "    def get_paths(self,row):\n",
    "        sub = str(row[\"Subject\"])\n",
    "        sub = \"sub\"+sub if len(sub) == 2 else \"sub0\"+ sub\n",
    "        ep = row[\"Filename\"]\n",
    "\n",
    "        return os.path.join(self.root, sub, ep)   \n",
    "\n",
    "    def get_frames(self, path):\n",
    "        frames = list()\n",
    "\n",
    "        for i in os.scandir(path):\n",
    "            if i.is_file():\n",
    "                frames.append(i.path)\n",
    "\n",
    "        return frames\n",
    "    \n",
    "    def get_labels(self):\n",
    "        self.encoder = LabelEncoder()\n",
    "        outputs = self.encoder.fit_transform(self.df[\"Estimated Emotion\"])\n",
    "        return pd.DataFrame(outputs, columns=[\"label\"])\n",
    "    \n",
    "    def save_encoder(self, path=\"./encoder.pkl\"):\n",
    "        with open(path, \"wb\") as f:\n",
    "            pickle.dump(self.encoder, f)\n",
    "\n",
    "    def __len__(self):\n",
    "        return len(self.df)\n",
    "    \n",
    "    def getitem(self,index):\n",
    "        return self.df.iloc[index]\n",
    "    \n",
    "    def __getitem__(self, index):\n",
    "        item = self.getitem(index)\n",
    "        frame_paths = item[\"Frames\"][:self.no_frames]\n",
    "        frames = list()\n",
    "\n",
    "        for i in frame_paths:\n",
    "            frame = Image.open(i)\n",
    "            frame = np.array(frame)\n",
    "            frame = frame.transpose(2,0,1)\n",
    "            # frame = frame.reshape(frame.shape[0], frame.shape[1], 3)\n",
    "            frames.append(frame)\n",
    "\n",
    "        frames = torch.tensor(np.array(frames), dtype=torch.float32)\n",
    "        if self.transform:\n",
    "            frames = self.transform(frames)\n",
    "\n",
    "        frames = frames.permute(1,0,2,3)\n",
    "\n",
    "        return frames, torch.tensor(np.eye(7)[item[\"label\"]], dtype=torch.float32)"
   ]
  },
  {
   "cell_type": "code",
   "execution_count": null,
   "metadata": {},
   "outputs": [],
   "source": [
    "transform = Compose([\n",
    "    Resize((200,200)),\n",
    "    RandomHorizontalFlip(0.3),\n",
    "    RandomVerticalFlip(0.3)\n",
    "])"
   ]
  },
  {
   "cell_type": "code",
   "execution_count": 30,
   "metadata": {},
   "outputs": [],
   "source": [
    "dataset = CASME2Selected(\n",
    "            root=\"F:\\casme2\\CASME2_RAW_selected\\CASME2_RAW_selected\",\n",
    "            excel=\"F:\\casme2\\CASME2-coding-20140508.xlsx\",\n",
    "            no_frames=20,\n",
    "            transform=transform\n",
    "        )"
   ]
  },
  {
   "cell_type": "code",
   "execution_count": 31,
   "metadata": {},
   "outputs": [
    {
     "data": {
      "text/plain": [
       "Subject                                                              1\n",
       "Filename                                                       EP03_02\n",
       "OnsetFrame                                                         131\n",
       "ApexFrame                                                          139\n",
       "OffsetFrame                                                        161\n",
       "Action Units                                                        18\n",
       "Estimated Emotion                                               others\n",
       "label                                                                3\n",
       "Frame root           F:\\casme2\\CASME2_RAW_selected\\CASME2_RAW_selec...\n",
       "Frames               [F:\\casme2\\CASME2_RAW_selected\\CASME2_RAW_sele...\n",
       "Name: 1, dtype: object"
      ]
     },
     "execution_count": 31,
     "metadata": {},
     "output_type": "execute_result"
    }
   ],
   "source": [
    "dataset.getitem(1)"
   ]
  },
  {
   "cell_type": "code",
   "execution_count": 32,
   "metadata": {},
   "outputs": [
    {
     "name": "stdout",
     "output_type": "stream",
     "text": [
      "Input shape:  torch.Size([3, 20, 200, 200])\n",
      "Image shape:  torch.Size([20, 200, 200])\n",
      "No. of frames:  3\n",
      "Label:  tensor([0., 0., 1., 0., 0., 0., 0.])\n"
     ]
    }
   ],
   "source": [
    "frames, label = dataset.__getitem__(0)\n",
    "\n",
    "print(\"Input shape: \", frames.shape)\n",
    "print(\"Image shape: \", frames[0].shape)\n",
    "print(\"No. of frames: \", frames.shape[0])\n",
    "print(\"Label: \", label)"
   ]
  },
  {
   "cell_type": "code",
   "execution_count": 33,
   "metadata": {},
   "outputs": [
    {
     "name": "stdout",
     "output_type": "stream",
     "text": [
      "192 63 True\n"
     ]
    }
   ],
   "source": [
    "val_size = int(dataset.__len__() / 4)\n",
    "train_size = int(dataset.__len__() - val_size)\n",
    "\n",
    "print(train_size, val_size, train_size + val_size == dataset.__len__())"
   ]
  },
  {
   "cell_type": "code",
   "execution_count": 34,
   "metadata": {},
   "outputs": [],
   "source": [
    "train_loader, val_loader = torch.utils.data.random_split(dataset, [train_size, val_size])\n",
    "\n",
    "train_loader = torch.utils.data.DataLoader(train_loader, batch_size=4, shuffle=True)\n",
    "val_loader = torch.utils.data.DataLoader(val_loader, batch_size=4, shuffle=False)"
   ]
  },
  {
   "cell_type": "code",
   "execution_count": 35,
   "metadata": {},
   "outputs": [
    {
     "name": "stdout",
     "output_type": "stream",
     "text": [
      "torch.Size([4, 3, 20, 200, 200]) tensor([[0., 0., 0., 1., 0., 0., 0.],\n",
      "        [0., 0., 0., 0., 0., 0., 1.],\n",
      "        [0., 0., 0., 1., 0., 0., 0.],\n",
      "        [1., 0., 0., 0., 0., 0., 0.]])\n"
     ]
    }
   ],
   "source": [
    "for input, label in train_loader:\n",
    "    print(input.shape, label)\n",
    "    break"
   ]
  },
  {
   "cell_type": "code",
   "execution_count": 36,
   "metadata": {},
   "outputs": [
    {
     "data": {
      "text/plain": [
       "(16, 48)"
      ]
     },
     "execution_count": 36,
     "metadata": {},
     "output_type": "execute_result"
    }
   ],
   "source": [
    "val_loader.__len__(), train_loader.__len__()"
   ]
  },
  {
   "cell_type": "markdown",
   "metadata": {},
   "source": [
    "## Model Definition"
   ]
  },
  {
   "cell_type": "code",
   "execution_count": 11,
   "metadata": {},
   "outputs": [],
   "source": [
    "class MainBlock(torch.nn.Module):\n",
    "    def __init__(self, in_channels, out_channels):\n",
    "        super(MainBlock, self).__init__()\n",
    "\n",
    "        self.conv1 = torch.nn.Conv3d(in_channels, in_channels, kernel_size=(3,3,3), padding=(1,1,1))\n",
    "        self.conv2 = torch.nn.Conv3d(in_channels, out_channels, kernel_size=(3,3,3), padding=(1,1,1))\n",
    "\n",
    "        self.relu = torch.nn.ReLU()\n",
    "\n",
    "    def forward(self,x):\n",
    "        x = self.relu(self.conv1(x))\n",
    "        x = self.relu(self.conv2(x))\n",
    "\n",
    "        return x"
   ]
  },
  {
   "cell_type": "code",
   "execution_count": 12,
   "metadata": {},
   "outputs": [],
   "source": [
    "class SideBlock(torch.nn.Module):\n",
    "    def __init__(self, in_channels, out_channels):\n",
    "        super(SideBlock, self).__init__()\n",
    "\n",
    "        self.conv = torch.nn.Conv3d(in_channels, out_channels, kernel_size=(3,3,3), padding=(1,1,1))\n",
    "        self.relu = torch.nn.ReLU()\n",
    "\n",
    "    def forward(self, x):\n",
    "        x = self.relu(self.conv(x))\n",
    "\n",
    "        return x"
   ]
  },
  {
   "cell_type": "code",
   "execution_count": 13,
   "metadata": {},
   "outputs": [],
   "source": [
    "class RecallBlock(torch.nn.Module):\n",
    "    def __init__(self, in_channels, out_channels):\n",
    "        super(RecallBlock, self).__init__()\n",
    "\n",
    "        self.conv = torch.nn.Conv3d(in_channels, in_channels, kernel_size=(3,3,3), padding=(1,1,1))\n",
    "        self.main_block = MainBlock(in_channels, out_channels)\n",
    "        self.side_block = SideBlock(in_channels, out_channels)\n",
    "\n",
    "        self.relu = torch.nn.ReLU()\n",
    "\n",
    "    def forward(self, x):\n",
    "        x = self.relu(self.conv(x))\n",
    "\n",
    "        return self.main_block(x) + self.side_block(x)"
   ]
  },
  {
   "cell_type": "code",
   "execution_count": 14,
   "metadata": {},
   "outputs": [],
   "source": [
    "class SpecialResidualBlock(torch.nn.Module):\n",
    "    def __init__(self, in_channels, out_channels):\n",
    "        super(SpecialResidualBlock, self).__init__()\n",
    "\n",
    "        self.main_block = MainBlock(in_channels, out_channels)\n",
    "        self.side_block = SideBlock(in_channels, out_channels)\n",
    "\n",
    "        self.relu = torch.nn.ReLU()\n",
    "\n",
    "    def forward(self, x):\n",
    "        return self.main_block(x) + self.side_block(x)"
   ]
  },
  {
   "cell_type": "code",
   "execution_count": 15,
   "metadata": {},
   "outputs": [],
   "source": [
    "class ResidualBlock(torch.nn.Module):\n",
    "    def __init__(self, in_channels, out_channels):\n",
    "        super(ResidualBlock, self).__init__()\n",
    "\n",
    "        self.main_block = MainBlock(in_channels, out_channels)\n",
    "\n",
    "        self.relu = torch.nn.ReLU()\n",
    "\n",
    "    def forward(self, x):\n",
    "        return self.main_block(x) + x"
   ]
  },
  {
   "cell_type": "code",
   "execution_count": 16,
   "metadata": {},
   "outputs": [],
   "source": [
    "class MicroMotionPredictor(torch.nn.Module):\n",
    "    def __init__(self, in_channels, output_shape):\n",
    "        super(MicroMotionPredictor, self).__init__()\n",
    "\n",
    "        self.conv_in = torch.nn.Conv3d(in_channels, 16, kernel_size=(3,3,3), padding=(1,1,1))\n",
    "        self.recall_1 = RecallBlock(16, 32)\n",
    "        self.special_res_1 = SpecialResidualBlock(32, 64)\n",
    "        self.res = ResidualBlock(64, 64)\n",
    "\n",
    "        self.conv_out = torch.nn.Conv3d(64, 128, kernel_size=(3,3,3), padding=(1,1,1))\n",
    "\n",
    "        self.linear_1 = torch.nn.Linear(128, 64)\n",
    "        self.linear_2 = torch.nn.Linear(64, output_shape)\n",
    "\n",
    "        self.max_pool = torch.nn.MaxPool3d(kernel_size=(2,2,2)) # kernel_size=(2,2,2), stride=(2,2,2)\n",
    "        self.global_pool = torch.nn.AdaptiveMaxPool3d((1,1,1))\n",
    "\n",
    "        self.relu = torch.nn.ReLU()\n",
    "        self.softmax = torch.nn.Softmax(dim=1)\n",
    "\n",
    "    def forward(self, x):\n",
    "        x = self.relu(self.conv_in(x))\n",
    "\n",
    "        x = self.max_pool(self.recall_1(x))\n",
    "        # x = self.max_pool(self.recall_2(x))\n",
    "\n",
    "        x = self.max_pool(self.special_res_1(x))\n",
    "        x = self.max_pool(self.res(x))\n",
    "\n",
    "        x = self.relu(self.conv_out(x))\n",
    "        x = self.global_pool(x)\n",
    "\n",
    "        x = x.view(-1, 128)\n",
    "\n",
    "        x = self.relu(self.linear_1(x))\n",
    "        x = self.softmax(self.linear_2(x))\n",
    "        \n",
    "        return x"
   ]
  },
  {
   "cell_type": "code",
   "execution_count": 17,
   "metadata": {},
   "outputs": [],
   "source": [
    "class STSTNetSubBlocks(torch.nn.Module):\n",
    "    def __init__(self, in_channels, out_channels):\n",
    "        super(STSTNetSubBlocks, self).__init__()\n",
    "\n",
    "        self.conv_in_3 = torch.nn.Conv3d(in_channels, out_channels*3, kernel_size=(3,3,3), padding=(1,1,1))\n",
    "        self.conv_in_5 = torch.nn.Conv3d(in_channels, out_channels*5, kernel_size=(3,3,3), padding=(1,1,1))\n",
    "        self.conv_in_8 = torch.nn.Conv3d(in_channels, out_channels*8, kernel_size=(3,3,3), padding=(1,1,1))\n",
    "\n",
    "        self.relu = torch.nn.ReLU()\n",
    "        self.pool = torch.nn.MaxPool3d(kernel_size=(2,2,2))\n",
    "\n",
    "    def forward(self, x):\n",
    "        out_3 = self.pool(self.relu(self.conv_in_3(x)))\n",
    "        out_5 = self.pool(self.relu(self.conv_in_5(x)))\n",
    "        out_8 = self.pool(self.relu(self.conv_in_8(x)))\n",
    "\n",
    "        x = torch.cat([out_3, out_5, out_8], dim=1)\n",
    "\n",
    "        return x"
   ]
  },
  {
   "cell_type": "code",
   "execution_count": 18,
   "metadata": {},
   "outputs": [],
   "source": [
    "class STSTNet(torch.nn.Module):\n",
    "    def __init__(self, in_channels, output_shape):\n",
    "        super(STSTNet, self).__init__()\n",
    "\n",
    "        self.block_1 = STSTNetSubBlocks(in_channels, 1)\n",
    "        self.block_2 = STSTNetSubBlocks(16, 2)\n",
    "        self.block_3 = STSTNetSubBlocks(32, 4)\n",
    "        self.block_4 = STSTNetSubBlocks(64, 6)\n",
    "\n",
    "        self.linear_1 = torch.nn.Linear(96*12*12, 1000)\n",
    "        self.linear_2 = torch.nn.Linear(1000, 500)\n",
    "        self.output_layer = torch.nn.Linear(500, output_shape)\n",
    "        \n",
    "        self.relu = torch.nn.ReLU()\n",
    "\n",
    "    def forward(self, x):\n",
    "        x = self.relu(self.block_1(x))\n",
    "        x = self.relu(self.block_2(x))\n",
    "        x = self.relu(self.block_3(x))\n",
    "        x = self.relu(self.block_4(x))\n",
    "\n",
    "        x = x.view(-1, 96*12*12)\n",
    "\n",
    "        x = self.relu(self.linear_1(x))\n",
    "        x = self.relu(self.linear_2(x))\n",
    "        x = self.output_layer(x)\n",
    "        \n",
    "        return x"
   ]
  },
  {
   "cell_type": "code",
   "execution_count": 19,
   "metadata": {},
   "outputs": [],
   "source": [
    "class STSTNet2(torch.nn.Module):\n",
    "    def __init__(self, in_channels, output_shape):\n",
    "        super(STSTNet2, self).__init__()\n",
    "\n",
    "        self.conv_1 = torch.nn.Conv3d(in_channels, in_channels, kernel_size=(3,3,3), padding=(1,1,1))\n",
    "        self.conv_2 = torch.nn.Conv3d(in_channels, in_channels, kernel_size=(3,3,3), padding=(1,1,1))\n",
    "        self.conv_3 = torch.nn.Conv3d(in_channels, in_channels, kernel_size=(3,3,3), padding=(1,1,1))\n",
    "\n",
    "        self.parallel_block = STSTNetSubBlocks(in_channels, 1)\n",
    "\n",
    "        self.linear_1 = torch.nn.Linear(16*12*12, 1000)\n",
    "        self.linear_2 = torch.nn.Linear(1000, 500)\n",
    "        self.output_layer = torch.nn.Linear(500, output_shape)\n",
    "\n",
    "        self.relu = torch.nn.ReLU()\n",
    "        self.pool = torch.nn.MaxPool3d(kernel_size=(2,2,2))\n",
    "\n",
    "    def forward(self, x):\n",
    "        x = self.pool(self.relu(self.conv_1(x)))\n",
    "        x = self.pool(self.relu(self.conv_2(x)))\n",
    "        x = self.pool(self.relu(self.conv_3(x)))\n",
    "\n",
    "        x = self.parallel_block(x)\n",
    "\n",
    "        x = x.view(-1, 16*12*12)\n",
    "\n",
    "        x = self.relu(self.linear_1(x))\n",
    "        x = self.relu(self.linear_2(x))\n",
    "        x = self.output_layer(x)\n",
    "\n",
    "        return x"
   ]
  },
  {
   "cell_type": "markdown",
   "metadata": {},
   "source": [
    "# Train Model"
   ]
  },
  {
   "cell_type": "markdown",
   "metadata": {},
   "source": [
    "## Without Augmentation"
   ]
  },
  {
   "cell_type": "code",
   "execution_count": 21,
   "metadata": {},
   "outputs": [
    {
     "name": "stdout",
     "output_type": "stream",
     "text": [
      "----------------------------------------------------------------\n",
      "        Layer (type)               Output Shape         Param #\n",
      "================================================================\n",
      "            Conv3d-1      [-1, 3, 20, 200, 200]             246\n",
      "              ReLU-2      [-1, 3, 20, 200, 200]               0\n",
      "         MaxPool3d-3      [-1, 3, 10, 100, 100]               0\n",
      "            Conv3d-4      [-1, 3, 10, 100, 100]             246\n",
      "              ReLU-5      [-1, 3, 10, 100, 100]               0\n",
      "         MaxPool3d-6         [-1, 3, 5, 50, 50]               0\n",
      "            Conv3d-7         [-1, 3, 5, 50, 50]             246\n",
      "              ReLU-8         [-1, 3, 5, 50, 50]               0\n",
      "         MaxPool3d-9         [-1, 3, 2, 25, 25]               0\n",
      "           Conv3d-10         [-1, 3, 2, 25, 25]             246\n",
      "             ReLU-11         [-1, 3, 2, 25, 25]               0\n",
      "        MaxPool3d-12         [-1, 3, 1, 12, 12]               0\n",
      "           Conv3d-13         [-1, 5, 2, 25, 25]             410\n",
      "             ReLU-14         [-1, 5, 2, 25, 25]               0\n",
      "        MaxPool3d-15         [-1, 5, 1, 12, 12]               0\n",
      "           Conv3d-16         [-1, 8, 2, 25, 25]             656\n",
      "             ReLU-17         [-1, 8, 2, 25, 25]               0\n",
      "        MaxPool3d-18         [-1, 8, 1, 12, 12]               0\n",
      " STSTNetSubBlocks-19        [-1, 16, 1, 12, 12]               0\n",
      "           Linear-20                 [-1, 1000]       2,305,000\n",
      "             ReLU-21                 [-1, 1000]               0\n",
      "           Linear-22                  [-1, 500]         500,500\n",
      "             ReLU-23                  [-1, 500]               0\n",
      "           Linear-24                    [-1, 7]           3,507\n",
      "================================================================\n",
      "Total params: 2,811,057\n",
      "Trainable params: 2,811,057\n",
      "Non-trainable params: 0\n",
      "----------------------------------------------------------------\n",
      "Input size (MB): 9.16\n",
      "Forward/backward pass size (MB): 44.74\n",
      "Params size (MB): 10.72\n",
      "Estimated Total Size (MB): 64.62\n",
      "----------------------------------------------------------------\n"
     ]
    }
   ],
   "source": [
    "model = STSTNet2(3, 7).to(\"cuda\")\n",
    "summary(model, (3, 20, 200, 200))"
   ]
  },
  {
   "cell_type": "code",
   "execution_count": 22,
   "metadata": {},
   "outputs": [],
   "source": [
    "optimizer = torch.optim.Adam(model.parameters(), lr=0.001)\n",
    "loss_fn = torch.nn.CrossEntropyLoss()\n",
    "epochs = 10"
   ]
  },
  {
   "cell_type": "code",
   "execution_count": 23,
   "metadata": {},
   "outputs": [
    {
     "name": "stdout",
     "output_type": "stream",
     "text": [
      "Epoch: 1/10, Loss: 83.6700764298439, Accuracy: 0.4010416666666667\n",
      "Epoch: 1/10, Loss: 2.0001907348632812, Accuracy: 0.2857142857142857\n",
      "\n",
      "Epoch: 2/10, Loss: 73.34073668718338, Accuracy: 0.3958333333333333\n",
      "Epoch: 2/10, Loss: 1.6351420879364014, Accuracy: 0.2857142857142857\n",
      "\n",
      "Epoch: 3/10, Loss: 72.06623417139053, Accuracy: 0.421875\n",
      "Epoch: 3/10, Loss: 1.885805368423462, Accuracy: 0.2857142857142857\n",
      "\n",
      "Epoch: 4/10, Loss: 67.4593808054924, Accuracy: 0.4427083333333333\n",
      "Epoch: 4/10, Loss: 1.3986167907714844, Accuracy: 0.31746031746031744\n",
      "\n",
      "Epoch: 5/10, Loss: 67.51821452379227, Accuracy: 0.4010416666666667\n",
      "Epoch: 5/10, Loss: 0.8515465259552002, Accuracy: 0.38095238095238093\n",
      "\n",
      "Epoch: 6/10, Loss: 63.13419848680496, Accuracy: 0.4583333333333333\n",
      "Epoch: 6/10, Loss: 1.5551624298095703, Accuracy: 0.3492063492063492\n",
      "\n",
      "Epoch: 7/10, Loss: 59.17748123407364, Accuracy: 0.4791666666666667\n",
      "Epoch: 7/10, Loss: 0.9111011028289795, Accuracy: 0.31746031746031744\n",
      "\n",
      "Epoch: 8/10, Loss: 53.98774394392967, Accuracy: 0.5\n",
      "Epoch: 8/10, Loss: 0.8479251265525818, Accuracy: 0.38095238095238093\n",
      "\n",
      "Epoch: 9/10, Loss: 50.82087531685829, Accuracy: 0.5833333333333334\n",
      "Epoch: 9/10, Loss: 1.0098721981048584, Accuracy: 0.42857142857142855\n",
      "\n",
      "Epoch: 10/10, Loss: 49.77988010644913, Accuracy: 0.5416666666666666\n",
      "Epoch: 10/10, Loss: 1.211087703704834, Accuracy: 0.42857142857142855\n",
      "\n"
     ]
    }
   ],
   "source": [
    "for epoch in range(epochs):\n",
    "    model.train()\n",
    "\n",
    "    train_loss = 0\n",
    "    train_accuracy = 0\n",
    "    i = 0\n",
    "\n",
    "    for inputs, labels in train_loader:\n",
    "        inputs, labels = inputs.to(\"cuda\"), labels.to(\"cuda\")\n",
    "        optimizer.zero_grad()\n",
    "\n",
    "        outputs = model(inputs)\n",
    "\n",
    "        # print(outputs.shape, labels.shape)\n",
    "        outputs = outputs.reshape(-1, 7)\n",
    "        labels = labels.reshape(-1,7)\n",
    "        loss = loss_fn(outputs, labels)\n",
    "\n",
    "        loss.backward()\n",
    "        optimizer.step()\n",
    "\n",
    "        train_loss += loss.item()\n",
    "        _, predicted = torch.max(outputs, 1)\n",
    "        train_accuracy += (predicted == torch.argmax(labels, dim=1)).sum().item()\n",
    "\n",
    "    print(f\"Epoch: {epoch+1}/{epochs}, Loss: {train_loss}, Accuracy: {train_accuracy/train_size}\")\n",
    "    \n",
    "    model.eval()\n",
    "    with torch.no_grad():\n",
    "        total = 0\n",
    "        correct = 0\n",
    "        for inputs, labels in val_loader:\n",
    "            inputs, labels = inputs.to(\"cuda\"), labels.to(\"cuda\")\n",
    "            outputs = model(inputs)\n",
    "            outputs = outputs.reshape(-1, 7)\n",
    "            labels = labels.reshape(-1,7)\n",
    "            _, predicted = torch.max(outputs, 1)\n",
    "            total += labels.size(0)\n",
    "            correct += (predicted == torch.argmax(labels, dim=1)).sum().item()\n",
    "        \n",
    "        print(f\"Epoch: {epoch+1}/{epochs}, Loss: {loss.item()}, Accuracy: {correct/total}\")\n",
    "        print()"
   ]
  },
  {
   "cell_type": "code",
   "execution_count": 24,
   "metadata": {},
   "outputs": [],
   "source": [
    "torch.save(model.state_dict(), \"STSTNet2_without_augmentation.pth\")"
   ]
  },
  {
   "cell_type": "code",
   "execution_count": 25,
   "metadata": {},
   "outputs": [
    {
     "name": "stdout",
     "output_type": "stream",
     "text": [
      "----------------------------------------------------------------\n",
      "        Layer (type)               Output Shape         Param #\n",
      "================================================================\n",
      "            Conv3d-1      [-1, 3, 20, 200, 200]             246\n",
      "              ReLU-2      [-1, 3, 20, 200, 200]               0\n",
      "         MaxPool3d-3      [-1, 3, 10, 100, 100]               0\n",
      "            Conv3d-4      [-1, 5, 20, 200, 200]             410\n",
      "              ReLU-5      [-1, 5, 20, 200, 200]               0\n",
      "         MaxPool3d-6      [-1, 5, 10, 100, 100]               0\n",
      "            Conv3d-7      [-1, 8, 20, 200, 200]             656\n",
      "              ReLU-8      [-1, 8, 20, 200, 200]               0\n",
      "         MaxPool3d-9      [-1, 8, 10, 100, 100]               0\n",
      " STSTNetSubBlocks-10     [-1, 16, 10, 100, 100]               0\n",
      "             ReLU-11     [-1, 16, 10, 100, 100]               0\n",
      "           Conv3d-12      [-1, 6, 10, 100, 100]           2,598\n",
      "             ReLU-13      [-1, 6, 10, 100, 100]               0\n",
      "        MaxPool3d-14         [-1, 6, 5, 50, 50]               0\n",
      "           Conv3d-15     [-1, 10, 10, 100, 100]           4,330\n",
      "             ReLU-16     [-1, 10, 10, 100, 100]               0\n",
      "        MaxPool3d-17        [-1, 10, 5, 50, 50]               0\n",
      "           Conv3d-18     [-1, 16, 10, 100, 100]           6,928\n",
      "             ReLU-19     [-1, 16, 10, 100, 100]               0\n",
      "        MaxPool3d-20        [-1, 16, 5, 50, 50]               0\n",
      " STSTNetSubBlocks-21        [-1, 32, 5, 50, 50]               0\n",
      "             ReLU-22        [-1, 32, 5, 50, 50]               0\n",
      "           Conv3d-23        [-1, 12, 5, 50, 50]          10,380\n",
      "             ReLU-24        [-1, 12, 5, 50, 50]               0\n",
      "        MaxPool3d-25        [-1, 12, 2, 25, 25]               0\n",
      "           Conv3d-26        [-1, 20, 5, 50, 50]          17,300\n",
      "             ReLU-27        [-1, 20, 5, 50, 50]               0\n",
      "        MaxPool3d-28        [-1, 20, 2, 25, 25]               0\n",
      "           Conv3d-29        [-1, 32, 5, 50, 50]          27,680\n",
      "             ReLU-30        [-1, 32, 5, 50, 50]               0\n",
      "        MaxPool3d-31        [-1, 32, 2, 25, 25]               0\n",
      " STSTNetSubBlocks-32        [-1, 64, 2, 25, 25]               0\n",
      "             ReLU-33        [-1, 64, 2, 25, 25]               0\n",
      "           Conv3d-34        [-1, 18, 2, 25, 25]          31,122\n",
      "             ReLU-35        [-1, 18, 2, 25, 25]               0\n",
      "        MaxPool3d-36        [-1, 18, 1, 12, 12]               0\n",
      "           Conv3d-37        [-1, 30, 2, 25, 25]          51,870\n",
      "             ReLU-38        [-1, 30, 2, 25, 25]               0\n",
      "        MaxPool3d-39        [-1, 30, 1, 12, 12]               0\n",
      "           Conv3d-40        [-1, 48, 2, 25, 25]          82,992\n",
      "             ReLU-41        [-1, 48, 2, 25, 25]               0\n",
      "        MaxPool3d-42        [-1, 48, 1, 12, 12]               0\n",
      " STSTNetSubBlocks-43        [-1, 96, 1, 12, 12]               0\n",
      "             ReLU-44        [-1, 96, 1, 12, 12]               0\n",
      "           Linear-45                 [-1, 1000]      13,825,000\n",
      "             ReLU-46                 [-1, 1000]               0\n",
      "           Linear-47                  [-1, 500]         500,500\n",
      "             ReLU-48                  [-1, 500]               0\n",
      "           Linear-49                    [-1, 7]           3,507\n",
      "================================================================\n",
      "Total params: 14,565,519\n",
      "Trainable params: 14,565,519\n",
      "Non-trainable params: 0\n",
      "----------------------------------------------------------------\n",
      "Input size (MB): 9.16\n",
      "Forward/backward pass size (MB): 306.13\n",
      "Params size (MB): 55.56\n",
      "Estimated Total Size (MB): 370.84\n",
      "----------------------------------------------------------------\n"
     ]
    }
   ],
   "source": [
    "model = STSTNet(in_channels=3, output_shape=7).to(\"cuda\")\n",
    "summary(model, (3, 20, 200, 200))"
   ]
  },
  {
   "cell_type": "code",
   "execution_count": 26,
   "metadata": {},
   "outputs": [],
   "source": [
    "optimizer = torch.optim.Adam(model.parameters(), lr=0.001)\n",
    "loss_fn = torch.nn.CrossEntropyLoss()\n",
    "epochs = 10"
   ]
  },
  {
   "cell_type": "code",
   "execution_count": 27,
   "metadata": {},
   "outputs": [
    {
     "name": "stdout",
     "output_type": "stream",
     "text": [
      "Epoch: 1/10, Loss: 169.2735168337822, Accuracy: 0.34375\n",
      "Epoch: 1/10, Loss: 1.8446950912475586, Accuracy: 0.2857142857142857\n",
      "\n",
      "Epoch: 2/10, Loss: 82.6200498342514, Accuracy: 0.3177083333333333\n",
      "Epoch: 2/10, Loss: 0.7214848399162292, Accuracy: 0.2857142857142857\n",
      "\n",
      "Epoch: 3/10, Loss: 78.39912635087967, Accuracy: 0.421875\n",
      "Epoch: 3/10, Loss: 1.3966236114501953, Accuracy: 0.2857142857142857\n",
      "\n",
      "Epoch: 4/10, Loss: 74.31995576620102, Accuracy: 0.421875\n",
      "Epoch: 4/10, Loss: 1.374719262123108, Accuracy: 0.2857142857142857\n",
      "\n",
      "Epoch: 5/10, Loss: 73.16849058866501, Accuracy: 0.4479166666666667\n",
      "Epoch: 5/10, Loss: 1.2128146886825562, Accuracy: 0.2857142857142857\n",
      "\n",
      "Epoch: 6/10, Loss: 73.5774518251419, Accuracy: 0.40625\n",
      "Epoch: 6/10, Loss: 2.4039254188537598, Accuracy: 0.38095238095238093\n",
      "\n",
      "Epoch: 7/10, Loss: 84.36823552846909, Accuracy: 0.4583333333333333\n",
      "Epoch: 7/10, Loss: 1.6961948871612549, Accuracy: 0.30158730158730157\n",
      "\n",
      "Epoch: 8/10, Loss: 76.07870823144913, Accuracy: 0.3854166666666667\n",
      "Epoch: 8/10, Loss: 1.3541765213012695, Accuracy: 0.2857142857142857\n",
      "\n",
      "Epoch: 9/10, Loss: 70.63693290948868, Accuracy: 0.421875\n",
      "Epoch: 9/10, Loss: 0.592706024646759, Accuracy: 0.2698412698412698\n",
      "\n",
      "Epoch: 10/10, Loss: 70.99160099029541, Accuracy: 0.453125\n",
      "Epoch: 10/10, Loss: 1.5393822193145752, Accuracy: 0.3492063492063492\n",
      "\n"
     ]
    }
   ],
   "source": [
    "for epoch in range(epochs):\n",
    "    model.train()\n",
    "\n",
    "    train_loss = 0\n",
    "    train_accuracy = 0\n",
    "    i = 0\n",
    "\n",
    "    for inputs, labels in train_loader:\n",
    "        inputs, labels = inputs.to(\"cuda\"), labels.to(\"cuda\")\n",
    "        optimizer.zero_grad()\n",
    "\n",
    "        outputs = model(inputs)\n",
    "\n",
    "        # print(outputs.shape, labels.shape)\n",
    "        outputs = outputs.reshape(-1, 7)\n",
    "        labels = labels.reshape(-1,7)\n",
    "        loss = loss_fn(outputs, labels)\n",
    "\n",
    "        loss.backward()\n",
    "        optimizer.step()\n",
    "\n",
    "        train_loss += loss.item()\n",
    "        _, predicted = torch.max(outputs, 1)\n",
    "        train_accuracy += (predicted == torch.argmax(labels, dim=1)).sum().item()\n",
    "\n",
    "    print(f\"Epoch: {epoch+1}/{epochs}, Loss: {train_loss}, Accuracy: {train_accuracy/train_size}\")\n",
    "    \n",
    "    model.eval()\n",
    "    with torch.no_grad():\n",
    "        total = 0\n",
    "        correct = 0\n",
    "        for inputs, labels in val_loader:\n",
    "            inputs, labels = inputs.to(\"cuda\"), labels.to(\"cuda\")\n",
    "            outputs = model(inputs)\n",
    "            outputs = outputs.reshape(-1, 7)\n",
    "            labels = labels.reshape(-1,7)\n",
    "            _, predicted = torch.max(outputs, 1)\n",
    "            total += labels.size(0)\n",
    "            correct += (predicted == torch.argmax(labels, dim=1)).sum().item()\n",
    "        \n",
    "        print(f\"Epoch: {epoch+1}/{epochs}, Loss: {loss.item()}, Accuracy: {correct/total}\")\n",
    "        print()"
   ]
  },
  {
   "cell_type": "code",
   "execution_count": 28,
   "metadata": {},
   "outputs": [],
   "source": [
    "torch.save(model.state_dict(), \"STSTNet_without_augmentation.pth\")"
   ]
  },
  {
   "cell_type": "markdown",
   "metadata": {},
   "source": [
    "## With Augmentation"
   ]
  },
  {
   "cell_type": "code",
   "execution_count": 42,
   "metadata": {},
   "outputs": [
    {
     "name": "stdout",
     "output_type": "stream",
     "text": [
      "----------------------------------------------------------------\n",
      "        Layer (type)               Output Shape         Param #\n",
      "================================================================\n",
      "            Conv3d-1      [-1, 3, 20, 200, 200]             246\n",
      "              ReLU-2      [-1, 3, 20, 200, 200]               0\n",
      "         MaxPool3d-3      [-1, 3, 10, 100, 100]               0\n",
      "            Conv3d-4      [-1, 3, 10, 100, 100]             246\n",
      "              ReLU-5      [-1, 3, 10, 100, 100]               0\n",
      "         MaxPool3d-6         [-1, 3, 5, 50, 50]               0\n",
      "            Conv3d-7         [-1, 3, 5, 50, 50]             246\n",
      "              ReLU-8         [-1, 3, 5, 50, 50]               0\n",
      "         MaxPool3d-9         [-1, 3, 2, 25, 25]               0\n",
      "           Conv3d-10         [-1, 3, 2, 25, 25]             246\n",
      "             ReLU-11         [-1, 3, 2, 25, 25]               0\n",
      "        MaxPool3d-12         [-1, 3, 1, 12, 12]               0\n",
      "           Conv3d-13         [-1, 5, 2, 25, 25]             410\n",
      "             ReLU-14         [-1, 5, 2, 25, 25]               0\n",
      "        MaxPool3d-15         [-1, 5, 1, 12, 12]               0\n",
      "           Conv3d-16         [-1, 8, 2, 25, 25]             656\n",
      "             ReLU-17         [-1, 8, 2, 25, 25]               0\n",
      "        MaxPool3d-18         [-1, 8, 1, 12, 12]               0\n",
      " STSTNetSubBlocks-19        [-1, 16, 1, 12, 12]               0\n",
      "           Linear-20                 [-1, 1000]       2,305,000\n",
      "             ReLU-21                 [-1, 1000]               0\n",
      "           Linear-22                  [-1, 500]         500,500\n",
      "             ReLU-23                  [-1, 500]               0\n",
      "           Linear-24                    [-1, 7]           3,507\n",
      "================================================================\n",
      "Total params: 2,811,057\n",
      "Trainable params: 2,811,057\n",
      "Non-trainable params: 0\n",
      "----------------------------------------------------------------\n",
      "Input size (MB): 9.16\n",
      "Forward/backward pass size (MB): 44.74\n",
      "Params size (MB): 10.72\n",
      "Estimated Total Size (MB): 64.62\n",
      "----------------------------------------------------------------\n"
     ]
    }
   ],
   "source": [
    "model = STSTNet2(3, 7).to(\"cuda\")\n",
    "summary(model, (3, 20, 200, 200))"
   ]
  },
  {
   "cell_type": "code",
   "execution_count": 43,
   "metadata": {},
   "outputs": [],
   "source": [
    "optimizer = torch.optim.Adam(model.parameters(), lr=0.001)\n",
    "loss_fn = torch.nn.CrossEntropyLoss()\n",
    "epochs = 10"
   ]
  },
  {
   "cell_type": "code",
   "execution_count": 44,
   "metadata": {},
   "outputs": [
    {
     "name": "stdout",
     "output_type": "stream",
     "text": [
      "Epoch: 1/10, Loss: 95.16646015644073, Accuracy: 0.359375\n",
      "Epoch: 1/10, Loss: 1.416420817375183, Accuracy: 0.25396825396825395\n",
      "\n",
      "Epoch: 2/10, Loss: 77.47435414791107, Accuracy: 0.4010416666666667\n",
      "Epoch: 2/10, Loss: 1.7649202346801758, Accuracy: 0.3492063492063492\n",
      "\n",
      "Epoch: 3/10, Loss: 76.7103545665741, Accuracy: 0.4010416666666667\n",
      "Epoch: 3/10, Loss: 1.8185539245605469, Accuracy: 0.3492063492063492\n",
      "\n",
      "Epoch: 4/10, Loss: 76.31617385149002, Accuracy: 0.4114583333333333\n",
      "Epoch: 4/10, Loss: 1.7310296297073364, Accuracy: 0.38095238095238093\n",
      "\n",
      "Epoch: 5/10, Loss: 73.13253623247147, Accuracy: 0.4375\n",
      "Epoch: 5/10, Loss: 1.5312503576278687, Accuracy: 0.38095238095238093\n",
      "\n",
      "Epoch: 6/10, Loss: 71.51688235998154, Accuracy: 0.4375\n",
      "Epoch: 6/10, Loss: 1.4868758916854858, Accuracy: 0.2857142857142857\n",
      "\n",
      "Epoch: 7/10, Loss: 69.50566804409027, Accuracy: 0.4739583333333333\n",
      "Epoch: 7/10, Loss: 1.6099438667297363, Accuracy: 0.31746031746031744\n",
      "\n",
      "Epoch: 8/10, Loss: 66.64194318652153, Accuracy: 0.5052083333333334\n",
      "Epoch: 8/10, Loss: 1.441148042678833, Accuracy: 0.3492063492063492\n",
      "\n",
      "Epoch: 9/10, Loss: 64.05494803190231, Accuracy: 0.4583333333333333\n",
      "Epoch: 9/10, Loss: 1.4152708053588867, Accuracy: 0.36507936507936506\n",
      "\n",
      "Epoch: 10/10, Loss: 63.18703004717827, Accuracy: 0.4791666666666667\n",
      "Epoch: 10/10, Loss: 0.6842950582504272, Accuracy: 0.4126984126984127\n",
      "\n"
     ]
    }
   ],
   "source": [
    "for epoch in range(epochs):\n",
    "    model.train()\n",
    "\n",
    "    train_loss = 0\n",
    "    train_accuracy = 0\n",
    "    i = 0\n",
    "\n",
    "    for inputs, labels in train_loader:\n",
    "        inputs, labels = inputs.to(\"cuda\"), labels.to(\"cuda\")\n",
    "        optimizer.zero_grad()\n",
    "\n",
    "        outputs = model(inputs)\n",
    "\n",
    "        # print(outputs.shape, labels.shape)\n",
    "        outputs = outputs.reshape(-1, 7)\n",
    "        labels = labels.reshape(-1,7)\n",
    "        loss = loss_fn(outputs, labels)\n",
    "\n",
    "        loss.backward()\n",
    "        optimizer.step()\n",
    "\n",
    "        train_loss += loss.item()\n",
    "        _, predicted = torch.max(outputs, 1)\n",
    "        train_accuracy += (predicted == torch.argmax(labels, dim=1)).sum().item()\n",
    "\n",
    "    print(f\"Epoch: {epoch+1}/{epochs}, Loss: {train_loss}, Accuracy: {train_accuracy/train_size}\")\n",
    "    \n",
    "    model.eval()\n",
    "    with torch.no_grad():\n",
    "        total = 0\n",
    "        correct = 0\n",
    "        for inputs, labels in val_loader:\n",
    "            inputs, labels = inputs.to(\"cuda\"), labels.to(\"cuda\")\n",
    "            outputs = model(inputs)\n",
    "            outputs = outputs.reshape(-1, 7)\n",
    "            labels = labels.reshape(-1,7)\n",
    "            _, predicted = torch.max(outputs, 1)\n",
    "            total += labels.size(0)\n",
    "            correct += (predicted == torch.argmax(labels, dim=1)).sum().item()\n",
    "        \n",
    "        print(f\"Epoch: {epoch+1}/{epochs}, Loss: {loss.item()}, Accuracy: {correct/total}\")\n",
    "        print()"
   ]
  },
  {
   "cell_type": "code",
   "execution_count": 45,
   "metadata": {},
   "outputs": [],
   "source": [
    "torch.save(model.state_dict(), \"STSTNet2_augmentation.pth\")"
   ]
  },
  {
   "cell_type": "code",
   "execution_count": 46,
   "metadata": {},
   "outputs": [
    {
     "name": "stdout",
     "output_type": "stream",
     "text": [
      "----------------------------------------------------------------\n",
      "        Layer (type)               Output Shape         Param #\n",
      "================================================================\n",
      "            Conv3d-1      [-1, 3, 20, 200, 200]             246\n",
      "              ReLU-2      [-1, 3, 20, 200, 200]               0\n",
      "         MaxPool3d-3      [-1, 3, 10, 100, 100]               0\n",
      "            Conv3d-4      [-1, 5, 20, 200, 200]             410\n",
      "              ReLU-5      [-1, 5, 20, 200, 200]               0\n",
      "         MaxPool3d-6      [-1, 5, 10, 100, 100]               0\n",
      "            Conv3d-7      [-1, 8, 20, 200, 200]             656\n",
      "              ReLU-8      [-1, 8, 20, 200, 200]               0\n",
      "         MaxPool3d-9      [-1, 8, 10, 100, 100]               0\n",
      " STSTNetSubBlocks-10     [-1, 16, 10, 100, 100]               0\n",
      "             ReLU-11     [-1, 16, 10, 100, 100]               0\n",
      "           Conv3d-12      [-1, 6, 10, 100, 100]           2,598\n",
      "             ReLU-13      [-1, 6, 10, 100, 100]               0\n",
      "        MaxPool3d-14         [-1, 6, 5, 50, 50]               0\n",
      "           Conv3d-15     [-1, 10, 10, 100, 100]           4,330\n",
      "             ReLU-16     [-1, 10, 10, 100, 100]               0\n",
      "        MaxPool3d-17        [-1, 10, 5, 50, 50]               0\n",
      "           Conv3d-18     [-1, 16, 10, 100, 100]           6,928\n",
      "             ReLU-19     [-1, 16, 10, 100, 100]               0\n",
      "        MaxPool3d-20        [-1, 16, 5, 50, 50]               0\n",
      " STSTNetSubBlocks-21        [-1, 32, 5, 50, 50]               0\n",
      "             ReLU-22        [-1, 32, 5, 50, 50]               0\n",
      "           Conv3d-23        [-1, 12, 5, 50, 50]          10,380\n",
      "             ReLU-24        [-1, 12, 5, 50, 50]               0\n",
      "        MaxPool3d-25        [-1, 12, 2, 25, 25]               0\n",
      "           Conv3d-26        [-1, 20, 5, 50, 50]          17,300\n",
      "             ReLU-27        [-1, 20, 5, 50, 50]               0\n",
      "        MaxPool3d-28        [-1, 20, 2, 25, 25]               0\n",
      "           Conv3d-29        [-1, 32, 5, 50, 50]          27,680\n",
      "             ReLU-30        [-1, 32, 5, 50, 50]               0\n",
      "        MaxPool3d-31        [-1, 32, 2, 25, 25]               0\n",
      " STSTNetSubBlocks-32        [-1, 64, 2, 25, 25]               0\n",
      "             ReLU-33        [-1, 64, 2, 25, 25]               0\n",
      "           Conv3d-34        [-1, 18, 2, 25, 25]          31,122\n",
      "             ReLU-35        [-1, 18, 2, 25, 25]               0\n",
      "        MaxPool3d-36        [-1, 18, 1, 12, 12]               0\n",
      "           Conv3d-37        [-1, 30, 2, 25, 25]          51,870\n",
      "             ReLU-38        [-1, 30, 2, 25, 25]               0\n",
      "        MaxPool3d-39        [-1, 30, 1, 12, 12]               0\n",
      "           Conv3d-40        [-1, 48, 2, 25, 25]          82,992\n",
      "             ReLU-41        [-1, 48, 2, 25, 25]               0\n",
      "        MaxPool3d-42        [-1, 48, 1, 12, 12]               0\n",
      " STSTNetSubBlocks-43        [-1, 96, 1, 12, 12]               0\n",
      "             ReLU-44        [-1, 96, 1, 12, 12]               0\n",
      "           Linear-45                 [-1, 1000]      13,825,000\n",
      "             ReLU-46                 [-1, 1000]               0\n",
      "           Linear-47                  [-1, 500]         500,500\n",
      "             ReLU-48                  [-1, 500]               0\n",
      "           Linear-49                    [-1, 7]           3,507\n",
      "================================================================\n",
      "Total params: 14,565,519\n",
      "Trainable params: 14,565,519\n",
      "Non-trainable params: 0\n",
      "----------------------------------------------------------------\n",
      "Input size (MB): 9.16\n",
      "Forward/backward pass size (MB): 306.13\n",
      "Params size (MB): 55.56\n",
      "Estimated Total Size (MB): 370.84\n",
      "----------------------------------------------------------------\n"
     ]
    }
   ],
   "source": [
    "model = STSTNet(in_channels=3, output_shape=7).to(\"cuda\")\n",
    "summary(model, (3, 20, 200, 200))"
   ]
  },
  {
   "cell_type": "code",
   "execution_count": 47,
   "metadata": {},
   "outputs": [],
   "source": [
    "optimizer = torch.optim.Adam(model.parameters(), lr=0.001)\n",
    "loss_fn = torch.nn.CrossEntropyLoss()\n",
    "epochs = 10"
   ]
  },
  {
   "cell_type": "code",
   "execution_count": 48,
   "metadata": {},
   "outputs": [
    {
     "name": "stdout",
     "output_type": "stream",
     "text": [
      "Epoch: 1/10, Loss: 194.9548265337944, Accuracy: 0.3333333333333333\n",
      "Epoch: 1/10, Loss: 1.1748645305633545, Accuracy: 0.3492063492063492\n",
      "\n",
      "Epoch: 2/10, Loss: 78.5034487247467, Accuracy: 0.4010416666666667\n",
      "Epoch: 2/10, Loss: 3.0566306114196777, Accuracy: 0.3492063492063492\n",
      "\n",
      "Epoch: 3/10, Loss: 77.50202637910843, Accuracy: 0.4114583333333333\n",
      "Epoch: 3/10, Loss: 1.8844460248947144, Accuracy: 0.3492063492063492\n",
      "\n",
      "Epoch: 4/10, Loss: 76.05291545391083, Accuracy: 0.4166666666666667\n",
      "Epoch: 4/10, Loss: 1.5404412746429443, Accuracy: 0.23809523809523808\n",
      "\n",
      "Epoch: 5/10, Loss: 75.7077499628067, Accuracy: 0.3802083333333333\n",
      "Epoch: 5/10, Loss: 1.554988145828247, Accuracy: 0.25396825396825395\n",
      "\n",
      "Epoch: 6/10, Loss: 72.39123672246933, Accuracy: 0.4427083333333333\n",
      "Epoch: 6/10, Loss: 1.7296024560928345, Accuracy: 0.36507936507936506\n",
      "\n",
      "Epoch: 7/10, Loss: 73.49071782827377, Accuracy: 0.4427083333333333\n",
      "Epoch: 7/10, Loss: 1.3788241147994995, Accuracy: 0.36507936507936506\n",
      "\n",
      "Epoch: 8/10, Loss: 71.99607628583908, Accuracy: 0.3802083333333333\n",
      "Epoch: 8/10, Loss: 0.8908586502075195, Accuracy: 0.36507936507936506\n",
      "\n",
      "Epoch: 9/10, Loss: 69.49290293455124, Accuracy: 0.40625\n",
      "Epoch: 9/10, Loss: 1.572080135345459, Accuracy: 0.4126984126984127\n",
      "\n",
      "Epoch: 10/10, Loss: 71.0024499297142, Accuracy: 0.4375\n",
      "Epoch: 10/10, Loss: 2.072913646697998, Accuracy: 0.3333333333333333\n",
      "\n"
     ]
    }
   ],
   "source": [
    "for epoch in range(epochs):\n",
    "    model.train()\n",
    "\n",
    "    train_loss = 0\n",
    "    train_accuracy = 0\n",
    "    i = 0\n",
    "\n",
    "    for inputs, labels in train_loader:\n",
    "        inputs, labels = inputs.to(\"cuda\"), labels.to(\"cuda\")\n",
    "        optimizer.zero_grad()\n",
    "\n",
    "        outputs = model(inputs)\n",
    "\n",
    "        # print(outputs.shape, labels.shape)\n",
    "        outputs = outputs.reshape(-1, 7)\n",
    "        labels = labels.reshape(-1,7)\n",
    "        loss = loss_fn(outputs, labels)\n",
    "\n",
    "        loss.backward()\n",
    "        optimizer.step()\n",
    "\n",
    "        train_loss += loss.item()\n",
    "        _, predicted = torch.max(outputs, 1)\n",
    "        train_accuracy += (predicted == torch.argmax(labels, dim=1)).sum().item()\n",
    "\n",
    "    print(f\"Epoch: {epoch+1}/{epochs}, Loss: {train_loss}, Accuracy: {train_accuracy/train_size}\")\n",
    "    \n",
    "    model.eval()\n",
    "    with torch.no_grad():\n",
    "        total = 0\n",
    "        correct = 0\n",
    "        for inputs, labels in val_loader:\n",
    "            inputs, labels = inputs.to(\"cuda\"), labels.to(\"cuda\")\n",
    "            outputs = model(inputs)\n",
    "            outputs = outputs.reshape(-1, 7)\n",
    "            labels = labels.reshape(-1,7)\n",
    "            _, predicted = torch.max(outputs, 1)\n",
    "            total += labels.size(0)\n",
    "            correct += (predicted == torch.argmax(labels, dim=1)).sum().item()\n",
    "        \n",
    "        print(f\"Epoch: {epoch+1}/{epochs}, Loss: {loss.item()}, Accuracy: {correct/total}\")\n",
    "        print()"
   ]
  },
  {
   "cell_type": "code",
   "execution_count": 49,
   "metadata": {},
   "outputs": [],
   "source": [
    "torch.save(model.state_dict(), \"STSTNet_augmentation.pth\")"
   ]
  },
  {
   "cell_type": "code",
   "execution_count": null,
   "metadata": {},
   "outputs": [],
   "source": []
  }
 ],
 "metadata": {
  "kernelspec": {
   "display_name": "pytorch",
   "language": "python",
   "name": "python3"
  },
  "language_info": {
   "codemirror_mode": {
    "name": "ipython",
    "version": 3
   },
   "file_extension": ".py",
   "mimetype": "text/x-python",
   "name": "python",
   "nbconvert_exporter": "python",
   "pygments_lexer": "ipython3",
   "version": "3.10.14"
  }
 },
 "nbformat": 4,
 "nbformat_minor": 2
}
